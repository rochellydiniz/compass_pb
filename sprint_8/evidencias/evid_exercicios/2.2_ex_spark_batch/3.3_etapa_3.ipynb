{
 "cells": [
  {
   "cell_type": "code",
   "execution_count": 1,
   "metadata": {},
   "outputs": [
    {
     "name": "stdout",
     "output_type": "stream",
     "text": [
      "Gerando lista de nomes únicos...\n",
      "['Suzanne Bullard', 'Paul Spirer', 'Michael Farmer', 'Mandy Swift', 'John Foster', 'Nell Wilson', 'Dorothy Jinkens', 'Pedro Mcmaster', 'Timothy Miller', 'Toni Chandler']\n"
     ]
    }
   ],
   "source": [
    "# ETAPA 3 - Gerar um dataset de nomes de pessoas.\n",
    "\n",
    "# Importar bibliotecas necessárias\n",
    "import random\n",
    "import time\n",
    "import os\n",
    "import names\n",
    "\n",
    "\n",
    "# Definir a semente de aleatoriedade\n",
    "random.seed(40)\n",
    "qtd_nomes_unicos = 3000\n",
    "qtd_nomes_aleatorios = 10000000\n",
    "\n",
    "# Gerar uma lista de nomes únicos\n",
    "print(\"Gerando lista de nomes únicos...\")\n",
    "nomes_unicos = [names.get_full_name() for _ in range(qtd_nomes_unicos)]\n",
    "\n",
    "print(nomes_unicos[:10])\n"
   ]
  },
  {
   "cell_type": "code",
   "execution_count": 2,
   "metadata": {},
   "outputs": [
    {
     "name": "stdout",
     "output_type": "stream",
     "text": [
      "Gerando dataset de nomes aleatórios...\n",
      "['Frances Bennet', 'Jamie Russell', 'Edward Kistler', 'Sheila Maurer', 'Donald Golightly', 'David Gray', 'Joy Bennett', 'Paul Kriese', 'Berniece Ornellas', 'Brian Farrell']\n"
     ]
    }
   ],
   "source": [
    "# Gerar o dataset de nomes aleatórios\n",
    "print(\"Gerando dataset de nomes aleatórios...\")\n",
    "nomes_aleatorios = [random.choice(nomes_unicos) for _ in range(qtd_nomes_aleatorios)]\n",
    "\n",
    "print(nomes_aleatorios[:10])"
   ]
  },
  {
   "cell_type": "code",
   "execution_count": 3,
   "metadata": {},
   "outputs": [
    {
     "name": "stdout",
     "output_type": "stream",
     "text": [
      "Dataset de nomes aleatórios gerado com sucesso!\n"
     ]
    }
   ],
   "source": [
    "# Salvar o dataset em um txt, cada nome em uma linha\n",
    "with open(\"nomes_aleatorios.txt\", \"w\") as f:\n",
    "    for nome in nomes_aleatorios:\n",
    "        f.write(nome + \"\\n\")\n",
    "\n",
    "print(\"Dataset de nomes aleatórios gerado com sucesso!\")\n"
   ]
  }
 ],
 "metadata": {
  "kernelspec": {
   "display_name": "base",
   "language": "python",
   "name": "python3"
  },
  "language_info": {
   "codemirror_mode": {
    "name": "ipython",
    "version": 3
   },
   "file_extension": ".py",
   "mimetype": "text/x-python",
   "name": "python",
   "nbconvert_exporter": "python",
   "pygments_lexer": "ipython3",
   "version": "3.9.13"
  }
 },
 "nbformat": 4,
 "nbformat_minor": 2
}
