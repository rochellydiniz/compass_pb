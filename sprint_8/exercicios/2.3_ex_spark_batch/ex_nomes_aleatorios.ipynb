{
 "cells": [
  {
   "cell_type": "code",
   "execution_count": 24,
   "metadata": {},
   "outputs": [
    {
     "name": "stdout",
     "output_type": "stream",
     "text": [
      "+----------------+\n",
      "|             _c0|\n",
      "+----------------+\n",
      "|  Frances Bennet|\n",
      "|   Jamie Russell|\n",
      "|  Edward Kistler|\n",
      "|   Sheila Maurer|\n",
      "|Donald Golightly|\n",
      "+----------------+\n",
      "only showing top 5 rows\n",
      "\n"
     ]
    }
   ],
   "source": [
    "from pyspark.sql import SparkSession\n",
    "from pyspark.sql.functions import when, lit, expr, rand\n",
    "\n",
    "\n",
    "# Etapa 1 - Configurar a sessão Spark e carregar os dados\n",
    "spark = SparkSession.builder.appName(\"ex_nomes_aleatorios\").master(\"local[*]\").getOrCreate()\n",
    "\n",
    "\n",
    "df_nomes = spark.read.csv('nomes_aleatorios.txt', header=False, inferSchema=True)\n",
    "df_nomes.show(5)"
   ]
  },
  {
   "cell_type": "code",
   "execution_count": 25,
   "metadata": {},
   "outputs": [
    {
     "name": "stdout",
     "output_type": "stream",
     "text": [
      "root\n",
      " |-- Nomes: string (nullable = true)\n",
      "\n",
      "+-----------------+\n",
      "|            Nomes|\n",
      "+-----------------+\n",
      "|   Frances Bennet|\n",
      "|    Jamie Russell|\n",
      "|   Edward Kistler|\n",
      "|    Sheila Maurer|\n",
      "| Donald Golightly|\n",
      "|       David Gray|\n",
      "|      Joy Bennett|\n",
      "|      Paul Kriese|\n",
      "|Berniece Ornellas|\n",
      "|    Brian Farrell|\n",
      "+-----------------+\n",
      "only showing top 10 rows\n",
      "\n"
     ]
    }
   ],
   "source": [
    "# Etapa 2 - Renomear colunas e explorar Schema\n",
    "df_nomes = df_nomes.withColumnRenamed(\"_c0\", \"Nomes\")\n",
    "df_nomes.printSchema()\n",
    "df_nomes.show(10)"
   ]
  },
  {
   "cell_type": "code",
   "execution_count": 26,
   "metadata": {},
   "outputs": [
    {
     "name": "stdout",
     "output_type": "stream",
     "text": [
      "+-----------------+------------+\n",
      "|            Nomes|Escolaridade|\n",
      "+-----------------+------------+\n",
      "|   Frances Bennet|    Superior|\n",
      "|    Jamie Russell|    Superior|\n",
      "|   Edward Kistler|       Médio|\n",
      "|    Sheila Maurer| Fundamental|\n",
      "| Donald Golightly|    Superior|\n",
      "|       David Gray|    Superior|\n",
      "|      Joy Bennett|       Médio|\n",
      "|      Paul Kriese|    Superior|\n",
      "|Berniece Ornellas| Fundamental|\n",
      "|    Brian Farrell|       Médio|\n",
      "+-----------------+------------+\n",
      "only showing top 10 rows\n",
      "\n"
     ]
    }
   ],
   "source": [
    "# Etapa 3 - Adicionar coluna escolaridade\n",
    "\n",
    "df_nomes = df_nomes.withColumn(\n",
    "    \"Escolaridade\",\n",
    "    when((rand() < 0.33), lit(\"Fundamental\"))\n",
    "    .when((rand() < 0.66), lit(\"Médio\"))\n",
    "    .otherwise(\"Superior\")\n",
    ")\n",
    "\n",
    "df_nomes.show(10)"
   ]
  },
  {
   "cell_type": "code",
   "execution_count": 27,
   "metadata": {},
   "outputs": [
    {
     "name": "stdout",
     "output_type": "stream",
     "text": [
      "+-----------------+------------+---------------+\n",
      "|            Nomes|Escolaridade|           País|\n",
      "+-----------------+------------+---------------+\n",
      "|   Frances Bennet|    Superior|      Venezuela|\n",
      "|    Jamie Russell|    Superior|Guiana Francesa|\n",
      "|   Edward Kistler|       Médio|      Argentina|\n",
      "|    Sheila Maurer| Fundamental|      Venezuela|\n",
      "| Donald Golightly|    Superior|       Paraguai|\n",
      "|       David Gray|    Superior|        Equador|\n",
      "|      Joy Bennett|       Médio|       Suriname|\n",
      "|      Paul Kriese|    Superior|        Equador|\n",
      "|Berniece Ornellas| Fundamental|Guiana Francesa|\n",
      "|    Brian Farrell|       Médio|       Suriname|\n",
      "+-----------------+------------+---------------+\n",
      "only showing top 10 rows\n",
      "\n"
     ]
    }
   ],
   "source": [
    "# Etapa 4 - Adicionar coluna país\n",
    "\n",
    "# Listar países da América do Sul\n",
    "paises = [\"Brasil\", \"Argentina\", \"Uruguai\", \"Paraguai\", \"Chile\", \n",
    "          \"Peru\", \"Colômbia\", \"Venezuela\", \"Equador\", \"Bolívia\", \n",
    "          \"Suriname\", \"Guiana\", \"Guiana Francesa\"]\n",
    "\n",
    "\n",
    "# Criar coluna país com valores aleatórios\n",
    "paises_array = \", \".join([f\"'{p}'\" for p in paises])\n",
    "paises_expr = f\"element_at(array({paises_array}), cast(rand() * {len(paises)} + 1 as int))\"\n",
    "\n",
    "\n",
    "# Adicionar coluna país\n",
    "df_nomes = df_nomes.withColumn(\"País\", expr(paises_expr))\n",
    "\n",
    "df_nomes.show(10)"
   ]
  },
  {
   "cell_type": "code",
   "execution_count": 28,
   "metadata": {},
   "outputs": [
    {
     "name": "stdout",
     "output_type": "stream",
     "text": [
      "+-----------------+------------+---------------+-------------+\n",
      "|            Nomes|Escolaridade|           País|AnoNascimento|\n",
      "+-----------------+------------+---------------+-------------+\n",
      "|   Frances Bennet|    Superior|      Venezuela|         1956|\n",
      "|    Jamie Russell|    Superior|Guiana Francesa|         1965|\n",
      "|   Edward Kistler|       Médio|      Argentina|         1963|\n",
      "|    Sheila Maurer| Fundamental|      Venezuela|         2007|\n",
      "| Donald Golightly|    Superior|       Paraguai|         2008|\n",
      "|       David Gray|    Superior|        Equador|         1958|\n",
      "|      Joy Bennett|       Médio|       Suriname|         1973|\n",
      "|      Paul Kriese|    Superior|        Equador|         2000|\n",
      "|Berniece Ornellas| Fundamental|Guiana Francesa|         1955|\n",
      "|    Brian Farrell|       Médio|       Suriname|         1991|\n",
      "+-----------------+------------+---------------+-------------+\n",
      "only showing top 10 rows\n",
      "\n"
     ]
    }
   ],
   "source": [
    "# Etapa 5 - Adicionar coluna AnoNascimento (valores aleatórios entre 1945 e 2010)\n",
    "df_nomes = df_nomes.withColumn(\n",
    "    \"AnoNascimento\", \n",
    "    (rand() * (2010 - 1945) + 1945).cast('int')\n",
    ")\n",
    "\n",
    "\n",
    "df_nomes.show(10)"
   ]
  },
  {
   "cell_type": "code",
   "execution_count": 29,
   "metadata": {},
   "outputs": [
    {
     "name": "stdout",
     "output_type": "stream",
     "text": [
      "+----------------+------------+---------------+-------------+\n",
      "|           Nomes|Escolaridade|           País|AnoNascimento|\n",
      "+----------------+------------+---------------+-------------+\n",
      "|   Sheila Maurer| Fundamental|      Venezuela|         2007|\n",
      "|Donald Golightly|    Superior|       Paraguai|         2008|\n",
      "|     Paul Kriese|    Superior|        Equador|         2000|\n",
      "|    David Medina| Fundamental|      Argentina|         2003|\n",
      "|    Rebecca Snow|       Médio|         Guiana|         2000|\n",
      "| Jerry Chynoweth| Fundamental|         Guiana|         2009|\n",
      "| Kenneth Rayburn| Fundamental|        Equador|         2008|\n",
      "|     Lisa Baxley| Fundamental|Guiana Francesa|         2005|\n",
      "|    James Barton|       Médio|      Venezuela|         2004|\n",
      "|     Milton Rowe|       Médio|        Uruguai|         2001|\n",
      "+----------------+------------+---------------+-------------+\n",
      "only showing top 10 rows\n",
      "\n"
     ]
    }
   ],
   "source": [
    "# Etapa 6 - Filtrar pessoas nascidas nesse século\n",
    "df_select = df_nomes.filter(\"AnoNascimento >= 2000\")\n",
    "\n",
    "df_select.show(10)"
   ]
  },
  {
   "cell_type": "code",
   "execution_count": 30,
   "metadata": {},
   "outputs": [
    {
     "name": "stdout",
     "output_type": "stream",
     "text": [
      "+----------------+------------+---------------+-------------+\n",
      "|           Nomes|Escolaridade|           País|AnoNascimento|\n",
      "+----------------+------------+---------------+-------------+\n",
      "|   Sheila Maurer| Fundamental|      Venezuela|         2007|\n",
      "|Donald Golightly|    Superior|       Paraguai|         2008|\n",
      "|     Paul Kriese|    Superior|        Equador|         2000|\n",
      "|    David Medina| Fundamental|      Argentina|         2003|\n",
      "|    Rebecca Snow|       Médio|         Guiana|         2000|\n",
      "| Jerry Chynoweth| Fundamental|         Guiana|         2009|\n",
      "| Kenneth Rayburn| Fundamental|        Equador|         2008|\n",
      "|     Lisa Baxley| Fundamental|Guiana Francesa|         2005|\n",
      "|    James Barton|       Médio|      Venezuela|         2004|\n",
      "|     Milton Rowe|       Médio|        Uruguai|         2001|\n",
      "+----------------+------------+---------------+-------------+\n",
      "only showing top 10 rows\n",
      "\n"
     ]
    }
   ],
   "source": [
    "# Etapa 7 - Usar Spark SQL\n",
    "\n",
    "# Registrar o DataFrame como uma tabela temporária\n",
    "df_nomes.createOrReplaceTempView(\"pessoas\")\n",
    "\n",
    "df_select = spark.sql(\"SELECT * FROM pessoas WHERE AnoNascimento >= 2000\")\n",
    "\n",
    "df_select.show(10)"
   ]
  },
  {
   "cell_type": "code",
   "execution_count": 31,
   "metadata": {},
   "outputs": [
    {
     "name": "stdout",
     "output_type": "stream",
     "text": [
      "Quantidade de Millennials: 2305920\n"
     ]
    }
   ],
   "source": [
    "# Etapa 8 - Contar Millennials (1980-1994)\n",
    "df_millennials = df_nomes.filter((df_nomes.AnoNascimento >= 1980) & (df_nomes.AnoNascimento <= 1994))\n",
    "\n",
    "quantidade_millennials = df_millennials.count()\n",
    "\n",
    "print(f\"Quantidade de Millennials: {quantidade_millennials}\")"
   ]
  },
  {
   "cell_type": "code",
   "execution_count": 32,
   "metadata": {},
   "outputs": [
    {
     "name": "stdout",
     "output_type": "stream",
     "text": [
      "Quantidade de Millennials: 2305920\n"
     ]
    }
   ],
   "source": [
    "# Etapa 9 - Contar Millennials (1980-1994) usando Spark SQL\n",
    "df_millennials = spark.sql(\"SELECT COUNT (*) AS QuantidadeMillennials FROM pessoas WHERE AnoNascimento BETWEEN 1980 AND 1994\")\n",
    "\n",
    "print(f\"Quantidade de Millennials: {df_millennials.collect()[0]['QuantidadeMillennials']}\")"
   ]
  },
  {
   "cell_type": "code",
   "execution_count": 33,
   "metadata": {},
   "outputs": [
    {
     "name": "stdout",
     "output_type": "stream",
     "text": [
      "+---------+------------+----------+\n",
      "|     Pais|     Geracao|Quantidade|\n",
      "+---------+------------+----------+\n",
      "|Argentina|Baby Boomers|    236920|\n",
      "|Argentina|   Geração X|    178164|\n",
      "|Argentina|   Geração Z|    177155|\n",
      "|Argentina| Millennials|    176919|\n",
      "|  Bolívia|Baby Boomers|    236638|\n",
      "|  Bolívia|   Geração X|    177753|\n",
      "|  Bolívia|   Geração Z|    177698|\n",
      "|  Bolívia| Millennials|    176763|\n",
      "|   Brasil|Baby Boomers|    236837|\n",
      "|   Brasil|   Geração X|    177276|\n",
      "|   Brasil|   Geração Z|    177275|\n",
      "|   Brasil| Millennials|    178128|\n",
      "|    Chile|Baby Boomers|    236832|\n",
      "|    Chile|   Geração X|    177736|\n",
      "|    Chile|   Geração Z|    176872|\n",
      "|    Chile| Millennials|    177035|\n",
      "| Colômbia|Baby Boomers|    236593|\n",
      "| Colômbia|   Geração X|    176935|\n",
      "| Colômbia|   Geração Z|    177578|\n",
      "| Colômbia| Millennials|    177303|\n",
      "+---------+------------+----------+\n",
      "only showing top 20 rows\n",
      "\n"
     ]
    }
   ],
   "source": [
    "# Etapa 10 - Contar gerações por país\n",
    "\n",
    "df_nomes = df_nomes.withColumnRenamed(\"País\", \"Pais\").withColumnRenamed(\"Geração\", \"Geracao\")\n",
    "\n",
    "\n",
    "# Criar uma coluna para identificar a geração\n",
    "df_nomes = df_nomes.withColumn(\n",
    "    \"Geracao\",\n",
    "    when((df_nomes.AnoNascimento >= 1944) & (df_nomes.AnoNascimento <= 1964), lit(\"Baby Boomers\"))\n",
    "    .when((df_nomes.AnoNascimento >= 1965) & (df_nomes.AnoNascimento <= 1979), lit(\"Geração X\"))\n",
    "    .when((df_nomes.AnoNascimento >= 1980) & (df_nomes.AnoNascimento <= 1994), lit(\"Millennials\"))\n",
    "    .otherwise(lit(\"Geração Z\"))\n",
    ")\n",
    "\n",
    "# Registrar a tabela novamente\n",
    "df_nomes.createOrReplaceTempView(\"pessoas\")\n",
    "\n",
    "# Contar as gerações por país\n",
    "df_geracoes = spark.sql(\"SELECT Pais, Geracao, COUNT(*) as Quantidade FROM pessoas GROUP BY Pais, Geracao ORDER BY Pais, Geracao, Quantidade\")\n",
    "\n",
    "df_geracoes.show()\n"
   ]
  }
 ],
 "metadata": {
  "kernelspec": {
   "display_name": "base",
   "language": "python",
   "name": "python3"
  },
  "language_info": {
   "codemirror_mode": {
    "name": "ipython",
    "version": 3
   },
   "file_extension": ".py",
   "mimetype": "text/x-python",
   "name": "python",
   "nbconvert_exporter": "python",
   "pygments_lexer": "ipython3",
   "version": "3.9.13"
  }
 },
 "nbformat": 4,
 "nbformat_minor": 2
}
